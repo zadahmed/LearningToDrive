{
 "cells": [
  {
   "cell_type": "markdown",
   "metadata": {},
   "source": [
    "# Getting Started:\n",
    "## A simple driving model training and evaluation pipeline using the Drive360 dataset and PyTorch."
   ]
  },
  {
   "cell_type": "markdown",
   "metadata": {},
   "source": [
    "## Loading data from Drive360 dataset."
   ]
  },
  {
   "cell_type": "markdown",
   "metadata": {},
   "source": [
    "The **dataset.py** file contains the 3 classes necessary for creating a Drive360Loader. Using the **config.json** file to specify the location of the csv and data directory, we can generate phase (train, validation, test) specific data loaders that can output samples from each set. Adjust the **dataset.py** to your preferred training framework."
   ]
  },
  {
   "cell_type": "code",
   "execution_count": 1,
   "metadata": {
    "scrolled": true
   },
   "outputs": [
    {
     "name": "stdout",
     "output_type": "stream",
     "text": [
      "Phase: train # of data: 38876\n",
      "Phase: validation # of data: 2558\n",
      "Phase: test # of data: 6957\n",
      "Loaded train loader with the following data available as a dict.\n",
      "Index(['cameraRight', 'cameraFront', 'cameraRear', 'cameraLeft', 'canSteering',\n",
      "       'canSpeed', 'chapter'],\n",
      "      dtype='object')\n"
     ]
    }
   ],
   "source": [
    "import json\n",
    "from dataset import Drive360Loader\n",
    "\n",
    "# load the config.json file that specifies data \n",
    "# location parameters and other hyperparameters \n",
    "# required.\n",
    "config = json.load(open('./config.json'))\n",
    "\n",
    "# create a train, validation and test data loader\n",
    "train_loader = Drive360Loader(config, 'train')\n",
    "validation_loader = Drive360Loader(config, 'validation')\n",
    "test_loader = Drive360Loader(config, 'test')\n",
    "\n",
    "# print the data (keys) available for use. See full \n",
    "# description of each data type in the documents.\n",
    "print('Loaded train loader with the following data available as a dict.')\n",
    "print(train_loader.drive360.dataframe.keys())"
   ]
  },
  {
   "cell_type": "markdown",
   "metadata": {},
   "source": [
    "## Training a basic driving model"
   ]
  },
  {
   "cell_type": "markdown",
   "metadata": {},
   "source": [
    "Create your driving model. This is specific to your learning framework. \n",
    "\n",
    "Below we give a very basic dummy model that uses the front facing camera and a resnet34 + LSTM architecture to predict canSteering and canSpeed. "
   ]
  },
  {
   "cell_type": "code",
   "execution_count": 2,
   "metadata": {},
   "outputs": [],
   "source": [
    "from torchvision import models\n",
    "import torch.nn as nn\n",
    "import torch\n",
    "\n",
    "class SomeDrivingModelResnet101(nn.Module):\n",
    "    def __init__(self):\n",
    "        super(SomeDrivingModelResnet101, self).__init__()\n",
    "        final_concat_size = 0\n",
    "        \n",
    "        # Main CNN\n",
    "        cnn = models.resnet101(pretrained=True)\n",
    "        self.features = nn.Sequential(*list(cnn.children())[:-1])\n",
    "        self.intermediate = nn.Sequential(nn.Linear(\n",
    "                          cnn.fc.in_features, 128),\n",
    "                          nn.ReLU())\n",
    "        final_concat_size += 128\n",
    "\n",
    "        # Main LSTM\n",
    "        self.lstm = nn.LSTM(input_size=128,\n",
    "                            hidden_size=64,\n",
    "                            num_layers=3,\n",
    "                            batch_first=False)\n",
    "        final_concat_size += 64\n",
    "        \n",
    "        # Angle Regressor\n",
    "        self.control_angle = nn.Sequential(\n",
    "            nn.Linear(final_concat_size, 64),\n",
    "            nn.ReLU(),\n",
    "            nn.Linear(64, 32),\n",
    "            nn.ReLU(),\n",
    "            nn.Linear(32, 1)\n",
    "        )\n",
    "        # Speed Regressor\n",
    "        self.control_speed = nn.Sequential(\n",
    "            nn.Linear(final_concat_size, 64),\n",
    "            nn.ReLU(),\n",
    "            nn.Linear(64, 32),\n",
    "            nn.ReLU(),\n",
    "            nn.Linear(32, 1)\n",
    "        )\n",
    "    \n",
    "    def forward(self, data):\n",
    "        module_outputs = []\n",
    "        lstm_i = []\n",
    "        # Loop through temporal sequence of\n",
    "        # front facing camera images and pass \n",
    "        # through the cnn.\n",
    "        for k, v in data['cameraFront'].items():\n",
    "            v = v.cuda()\n",
    "            x = self.features(v)\n",
    "            x = x.view(x.size(0), -1)\n",
    "            x = self.intermediate(x)\n",
    "            lstm_i.append(x)\n",
    "            # feed the current front facing camera\n",
    "            # output directly into the \n",
    "            # regression networks.\n",
    "            if k == 0:\n",
    "                module_outputs.append(x)\n",
    "\n",
    "        # Feed temporal outputs of CNN into LSTM\n",
    "        i_lstm, _ = self.lstm(torch.stack(lstm_i))\n",
    "        module_outputs.append(i_lstm[-1])\n",
    "        \n",
    "        # Concatenate current image CNN output \n",
    "        # and LSTM output.\n",
    "        x_cat = torch.cat(module_outputs, dim=-1)\n",
    "        \n",
    "        # Feed concatenated outputs into the \n",
    "        # regession networks.\n",
    "        prediction = {'canSteering': torch.squeeze(self.control_angle(x_cat)),\n",
    "                      'canSpeed': torch.squeeze(self.control_speed(x_cat))}\n",
    "        return prediction\n",
    "    \n",
    "class SomeDrivingModelResnet50(nn.Module):\n",
    "    def __init__(self):\n",
    "        super(SomeDrivingModelResnet50, self).__init__()\n",
    "        final_concat_size = 0\n",
    "        \n",
    "        # Main CNN\n",
    "        cnn = models.resnet50(pretrained=True)\n",
    "        self.features = nn.Sequential(*list(cnn.children())[:-1])\n",
    "        self.intermediate = nn.Sequential(nn.Linear(\n",
    "                          cnn.fc.in_features, 128),\n",
    "                          nn.ReLU())\n",
    "        final_concat_size += 128\n",
    "\n",
    "        # Main LSTM\n",
    "        self.lstm = nn.LSTM(input_size=128,\n",
    "                            hidden_size=64,\n",
    "                            num_layers=3,\n",
    "                            batch_first=False)\n",
    "        final_concat_size += 64\n",
    "        \n",
    "        # Angle Regressor\n",
    "        self.control_angle = nn.Sequential(\n",
    "            nn.Linear(final_concat_size, 64),\n",
    "            nn.ReLU(),\n",
    "            nn.Linear(64, 32),\n",
    "            nn.ReLU(),\n",
    "            nn.Linear(32, 1)\n",
    "        )\n",
    "        # Speed Regressor\n",
    "        self.control_speed = nn.Sequential(\n",
    "            nn.Linear(final_concat_size, 64),\n",
    "            nn.ReLU(),\n",
    "            nn.Linear(64, 32),\n",
    "            nn.ReLU(),\n",
    "            nn.Linear(32, 1)\n",
    "        )\n",
    "    \n",
    "    def forward(self, data):\n",
    "        module_outputs = []\n",
    "        lstm_i = []\n",
    "        # Loop through temporal sequence of\n",
    "        # front facing camera images and pass \n",
    "        # through the cnn.\n",
    "        for k, v in data['cameraFront'].items():\n",
    "            v = v.cuda()\n",
    "            x = self.features(v)\n",
    "            x = x.view(x.size(0), -1)\n",
    "            x = self.intermediate(x)\n",
    "            lstm_i.append(x)\n",
    "            # feed the current front facing camera\n",
    "            # output directly into the \n",
    "            # regression networks.\n",
    "            if k == 0:\n",
    "                module_outputs.append(x)\n",
    "\n",
    "        # Feed temporal outputs of CNN into LSTM\n",
    "        i_lstm, _ = self.lstm(torch.stack(lstm_i))\n",
    "        module_outputs.append(i_lstm[-1])\n",
    "        \n",
    "        # Concatenate current image CNN output \n",
    "        # and LSTM output.\n",
    "        x_cat = torch.cat(module_outputs, dim=-1)\n",
    "        \n",
    "        # Feed concatenated outputs into the \n",
    "        # regession networks.\n",
    "        prediction = {'canSteering': torch.squeeze(self.control_angle(x_cat)),\n",
    "                      'canSpeed': torch.squeeze(self.control_speed(x_cat))}\n",
    "        return prediction"
   ]
  },
  {
   "cell_type": "markdown",
   "metadata": {},
   "source": [
    "A basic training procedure that iterates over the train_loader and feeds each sample into our dummy model, subsequently calculates loss. We kill after 20 batches just"
   ]
  },
  {
   "cell_type": "code",
   "execution_count": 3,
   "metadata": {},
   "outputs": [],
   "source": [
    "import time\n",
    "import numpy as np\n",
    "import matplotlib.pyplot as plt\n",
    "\n",
    "def train_model(model, optimizer, criterion_speed, criterion_steering, epochs):\n",
    "    hist_train_loss_speed = []\n",
    "    hist_train_loss_steering = []\n",
    "    hist_train_loss_total = []\n",
    "    model.cuda()\n",
    "    for epoch in range(epochs):\n",
    "        start = time.time()\n",
    "        model.train()\n",
    "        running_loss = 0.0\n",
    "        for batch_idx, (data, target) in enumerate(train_loader):\n",
    "\n",
    "            optimizer.zero_grad()\n",
    "            prediction = model(data)\n",
    "\n",
    "            steering_loss = criterion_steering(prediction['canSteering'].cuda(), target['canSteering'].cuda())\n",
    "            speed_loss = criterion_speed(prediction['canSpeed'].cuda(), target['canSpeed'].cuda())\n",
    "            loss = steering_loss + speed_loss\n",
    "            hist_train_loss_total.append(loss.cpu().detach().numpy())\n",
    "            hist_train_loss_speed.append(speed_loss.cpu().detach().numpy())\n",
    "            hist_train_loss_steering.append(steering_loss.cpu().detach().numpy())\n",
    "            \n",
    "            loss.backward()\n",
    "            optimizer.step()\n",
    "        end = time.time() \n",
    "        print(\"Training minutes elapsed epoch{}: {}\".format(epoch, round((end - start) / 60, 2)))\n",
    "\n",
    "        model.eval()\n",
    "\n",
    "        speed_sum = 0\n",
    "        steering_sum = 0\n",
    "        with torch.no_grad():\n",
    "            for batch_idx, (data, target) in enumerate(validation_loader):\n",
    "                optimizer.zero_grad()\n",
    "                prediction = model(data)\n",
    "                speed_dif = prediction['canSpeed'].cpu() - target['canSpeed']\n",
    "                steering_dif = prediction['canSteering'].cpu() - target['canSteering']\n",
    "                speed_sum += (np.square(speed_dif)).mean()\n",
    "                steering_sum += (np.square(steering_dif)).mean()\n",
    "        print(\"Steering Error: {}\\nSpeed Error: {}\".format(float(steering_sum), float(speed_sum)))\n",
    "    \n",
    "    plt.plot(hist_train_loss_speed)\n",
    "    plt.title(\"Speed Loss\")\n",
    "    plt.show()\n",
    "    plt.plot(hist_train_loss_steering)\n",
    "    plt.title(\"Steering Loss\")\n",
    "    plt.show()\n",
    "    plt.plot(hist_train_loss_total)\n",
    "    plt.title(\"Total Loss\")\n",
    "    plt.show()"
   ]
  },
  {
   "cell_type": "markdown",
   "metadata": {},
   "source": [
    "## Local evaluation of the model."
   ]
  },
  {
   "cell_type": "code",
   "execution_count": 4,
   "metadata": {},
   "outputs": [],
   "source": [
    "def cross_validation(user_models, optimizers, criterion_speeds, criterion_steerings, index, name):\n",
    "    print(name + \": \")\n",
    "    train_model(user_models[index], optimizers[index], criterion_speeds[index], criterion_steerings[index], 5)\n",
    "    print(\"--------------------------------------------------------------\")"
   ]
  },
  {
   "cell_type": "code",
   "execution_count": 5,
   "metadata": {},
   "outputs": [
    {
     "name": "stdout",
     "output_type": "stream",
     "text": [
      "(Resnet50 Model, AdamW optimizer, SmoothL1Loss): \n",
      "Training minutes elapsed epoch0: 5.02\n",
      "Steering Error: 5.284323692321777\n",
      "Speed Error: 4.823840618133545\n",
      "Training minutes elapsed epoch1: 5.02\n",
      "Steering Error: 4.924598217010498\n",
      "Speed Error: 4.2693891525268555\n"
     ]
    },
    {
     "data": {
      "image/png": "[encoded data removed]",
      "text/plain": [
       "<Figure size 432x288 with 1 Axes>"
      ]
     },
     "metadata": {
      "needs_background": "light"
     },
     "output_type": "display_data"
    },
    {
     "data": {
      "image/png": "[encoded data removed]",
      "text/plain": [
       "<Figure size 432x288 with 1 Axes>"
      ]
     },
     "metadata": {
      "needs_background": "light"
     },
     "output_type": "display_data"
    },
    {
     "data": {
      "image/png": "[encoded data removed]",
      "text/plain": [
       "<Figure size 432x288 with 1 Axes>"
      ]
     },
     "metadata": {
      "needs_background": "light"
     },
     "output_type": "display_data"
    },
    {
     "name": "stdout",
     "output_type": "stream",
     "text": [
      "--------------------------------------------------------------\n"
     ]
    }
   ],
   "source": [
    "import torch.optim as optim\n",
    "\n",
    "user_models = [SomeDrivingModelResnet50(), SomeDrivingModelResnet50(), SomeDrivingModelResnet101(), SomeDrivingModelResnet50()]\n",
    "optimizers = [optim.SGD(user_models[0].parameters(), lr=0.0001, momentum=0.9),\n",
    "             optim.SGD(user_models[1].parameters(), lr=0.0001, momentum=0.9),\n",
    "             optim.AdamW(user_models[2].parameters(), lr=0.0001),\n",
    "             optim.AdamW(user_models[3].parameters(), lr=0.001)]\n",
    "criterion_speeds = [nn.SmoothL1Loss(), nn.SmoothL1Loss(), nn.SmoothL1Loss(), nn.SmoothL1Loss()]\n",
    "criterion_steerings = [nn.SmoothL1Loss(), nn.SmoothL1Loss(), nn.SmoothL1Loss(), nn.SmoothL1Loss()]\n",
    "\n",
    "# Resnet50 model + Adam\n",
    "#cross_validation(user_models, optimizers, criterion_speeds, criterion_steerings, 0, \n",
    "#                 \"(Default Model, SGD optimizer, SmoothL1Loss)\")\n",
    "\n",
    "# Resnet50 model + Adam\n",
    "#cross_validation(user_models, optimizers, criterion_speeds, criterion_steerings, 1, \n",
    "#                 \"(Resnet50 Model, SGD optimizer, SmoothL1Loss)\")\n",
    "\n",
    "#cross_validation(user_models, optimizers, criterion_speeds, criterion_steerings, 2, \n",
    "#                 \"(Resnet101 Model, AdamW optimizer, SmoothL1Loss)\")\n",
    "\n",
    "# Resnet50 model + Adam\n",
    "cross_validation(user_models, optimizers, criterion_speeds, criterion_steerings, 3, \n",
    "                 \"(Resnet50 Model, AdamW optimizer, SmoothL1Loss)\")"
   ]
  },
  {
   "cell_type": "markdown",
   "metadata": {},
   "source": [
    "## Creating a submission file."
   ]
  },
  {
   "cell_type": "code",
   "execution_count": 6,
   "metadata": {},
   "outputs": [],
   "source": [
    "normalize_targets = config['target']['normalize']\n",
    "target_mean = config['target']['mean']\n",
    "target_std = config['target']['std']\n",
    "\n",
    "def add_results(results, output):\n",
    "    steering = np.squeeze(output['canSteering'].cpu().data.numpy())\n",
    "    speed = np.squeeze(output['canSpeed'].cpu().data.numpy())\n",
    "    if normalize_targets:\n",
    "        steering = (steering*target_std['canSteering'])+target_mean['canSteering']\n",
    "        speed = (speed*target_std['canSpeed'])+target_mean['canSpeed']\n",
    "    if np.isscalar(steering):\n",
    "        steering = [steering]\n",
    "    if np.isscalar(speed):\n",
    "        speed = [speed]\n",
    "    results['canSteering'].extend(steering)\n",
    "    results['canSpeed'].extend(speed)\n"
   ]
  },
  {
   "cell_type": "markdown",
   "metadata": {},
   "source": [
    "We use pandas to create a submission file which is simply a 2-column csv with a canSteering and canSpeed prediction for each row in the **drive360_test.csv** a total of 305437 rows/predictions not including the header. See the **sample_submission.csv** file as an example.\n",
    "\n",
    "IMPORTANT: for the test phase indices will start 10s (100 samples) into each chapter this is to allow challenge participants to experiment with different temporal settings of data input. If challenge participants have a greater temporal length than 10s for each training sample, then they must write a custom function here. Please check out the **dataset.py** file for additional explanation."
   ]
  },
  {
   "cell_type": "code",
   "execution_count": 7,
   "metadata": {},
   "outputs": [
    {
     "name": "stdout",
     "output_type": "stream",
     "text": [
      "Start creating submission file\n",
      "Total number of predictions (without trailing extrapolation): 278280\n",
      "Start extrapolating submission file\n",
      "Minutes elapsed: 0.66\n"
     ]
    }
   ],
   "source": [
    "import pandas as pd\n",
    "\n",
    "def create_submission(model_index, interval):\n",
    "    file = './submission.csv'\n",
    "    results = {'canSteering': [],\n",
    "               'canSpeed': []}\n",
    "\n",
    "    final_result = {'canSteering': np.zeros(279863, dtype=\"float64\"),\n",
    "                    'canSpeed': np.zeros(279863, dtype=\"float64\")}\n",
    "    final_result['canSteering'][:] = np.nan\n",
    "    final_result['canSpeed'][:] = np.nan\n",
    "\n",
    "\n",
    "    start = time.time()\n",
    "    print(\"Start creating submission file\")\n",
    "    with torch.no_grad():\n",
    "        counter = 1\n",
    "        for batch_idx, (data, target) in enumerate(test_loader):\n",
    "            prediction = user_models[model_index](data)\n",
    "            add_results(results, prediction)\n",
    "\n",
    "    for i in range(len(results['canSteering'])):\n",
    "        final_result['canSteering'][i*interval+19] = results['canSteering'][i]\n",
    "        final_result['canSpeed'][i*interval+19] = results['canSpeed'][i]\n",
    "    print(\"Total number of predictions (without trailing extrapolation): {}\".format((i+1)*interval))    \n",
    "    \n",
    "    #Fill the first rows\n",
    "    for i in range(20):\n",
    "        final_result['canSteering'][i] = results['canSteering'][0]\n",
    "        final_result['canSpeed'][i] = results['canSpeed'][0]\n",
    "\n",
    "    df = pd.DataFrame.from_dict(final_result, dtype='float64')\n",
    "    print(\"Start extrapolating submission file\")\n",
    "    df.interpolate(method='linear', limit_direction='forward', inplace=True)\n",
    "    df.to_csv(file, index=False)\n",
    "\n",
    "    end = time.time() \n",
    "    print(\"Minutes elapsed: {}\".format(round((end - start) / 60, 2)))\n",
    "    \n",
    "create_submission(3, 40)"
   ]
  },
  {
   "cell_type": "code",
   "execution_count": null,
   "metadata": {},
   "outputs": [],
   "source": []
  }
 ],
 "metadata": {
  "kernelspec": {
   "display_name": "Python 3",
   "language": "python",
   "name": "python3"
  },
  "language_info": {
   "codemirror_mode": {
    "name": "ipython",
    "version": 3
   },
   "file_extension": ".py",
   "mimetype": "text/x-python",
   "name": "python",
   "nbconvert_exporter": "python",
   "pygments_lexer": "ipython3",
   "version": "3.7.3"
  }
 },
 "nbformat": 4,
 "nbformat_minor": 1
}
