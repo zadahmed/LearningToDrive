{
 "cells": [
  {
   "cell_type": "markdown",
   "metadata": {},
   "source": [
    "# Getting Started:\n",
    "## A simple driving model training and evaluation pipeline using the Drive360 dataset and PyTorch."
   ]
  },
  {
   "cell_type": "markdown",
   "metadata": {},
   "source": [
    "## Loading data from Drive360 dataset."
   ]
  },
  {
   "cell_type": "markdown",
   "metadata": {},
   "source": [
    "The **dataset.py** file contains the 3 classes necessary for creating a Drive360Loader. Using the **config.json** file to specify the location of the csv and data directory, we can generate phase (train, validation, test) specific data loaders that can output samples from each set. Adjust the **dataset.py** to your preferred training framework."
   ]
  },
  {
   "cell_type": "code",
   "execution_count": 1,
   "metadata": {
    "scrolled": false
   },
   "outputs": [
    {
     "name": "stdout",
     "output_type": "stream",
     "text": [
      "Phase: train # of data: 39897\n",
      "Phase: validation # of data: 10626\n",
      "Phase: test # of data: 27920\n",
      "Loaded train loader with the following data available as a dict.\n",
      "Index(['cameraRight', 'cameraFront', 'cameraRear', 'cameraLeft', 'here',\n",
      "       'tomtom', 'gpsLatitude', 'gpsLongitude', 'gpsAltitude', 'gpsPrecision',\n",
      "       'hereMmLatitude', 'hereMmLongitude', 'hereSpeedLimit',\n",
      "       'hereSpeedLimit_2', 'hereFreeFlowSpeed', 'hereSignal', 'hereYield',\n",
      "       'herePedestrian', 'hereIntersection', 'hereMmIntersection',\n",
      "       'hereSegmentExitHeading', 'hereSegmentEntryHeading',\n",
      "       'hereSegmentOthersHeading', 'hereCurvature', 'hereCurrentHeading',\n",
      "       'here1mHeading', 'here5mHeading', 'here10mHeading', 'here20mHeading',\n",
      "       'here50mHeading', 'hereTurnNumber', 'canSteering', 'canSpeed',\n",
      "       'chapter'],\n",
      "      dtype='object')\n",
      "Ready to train on 0\n"
     ]
    }
   ],
   "source": [
    "import torch\n",
    "import json\n",
    "import torch.optim as optim\n",
    "import torch.nn as nn\n",
    "import time\n",
    "import numpy as np\n",
    "import matplotlib.pyplot as plt\n",
    "from datetime import datetime\n",
    "from copy import deepcopy\n",
    "import math\n",
    "\n",
    "from dataset import Drive360Loader\n",
    "\n",
    "# load the config.json file that specifies data \n",
    "# location parameters and other hyperparameters \n",
    "# required.\n",
    "#config = json.load(open('./config_full_downsampled.json'))\n",
    "config = json.load(open('./config_hybrid_full.json'))\n",
    "\n",
    "# create a train, validation and test data loader\n",
    "train_loader = Drive360Loader(config, 'train')\n",
    "validation_loader = Drive360Loader(config, 'validation')\n",
    "test_loader = Drive360Loader(config, 'test')\n",
    "\n",
    "# print the data (keys) available for use. See full \n",
    "# description of each data type in the documents.\n",
    "print('Loaded train loader with the following data available as a dict.')\n",
    "print(train_loader.drive360.dataframe.keys())\n",
    "\n",
    "total_batch = len(train_loader)\n",
    "print(\"Ready to train on {}\".format(torch.cuda.current_device()))"
   ]
  },
  {
   "cell_type": "code",
   "execution_count": 2,
   "metadata": {},
   "outputs": [],
   "source": [
    "# Print iterations progress\n",
    "def printProgressBar (iteration, total, prefix = '', suffix = '', decimals = 1, length = 100, fill = '█', printEnd = \"\\r\"):\n",
    "    \"\"\"\n",
    "    Call in a loop to create terminal progress bar\n",
    "    @params:\n",
    "        iteration   - Required  : current iteration (Int)\n",
    "        total       - Required  : total iterations (Int)\n",
    "        prefix      - Optional  : prefix string (Str)\n",
    "        suffix      - Optional  : suffix string (Str)\n",
    "        decimals    - Optional  : positive number of decimals in percent complete (Int)\n",
    "        length      - Optional  : character length of bar (Int)\n",
    "        fill        - Optional  : bar fill character (Str)\n",
    "        printEnd    - Optional  : end character (e.g. \"\\r\", \"\\r\\n\") (Str)\n",
    "    \"\"\"\n",
    "    percent = (\"{0:.\" + str(decimals) + \"f}\").format(100 * (iteration / float(total)))\n",
    "    filledLength = int(length * iteration // total)\n",
    "    bar = fill * filledLength + '-' * (length - filledLength)\n",
    "    print('\\r%s |%s| %s%% %s' % (prefix, bar, percent, suffix), end = printEnd)\n",
    "    # Print New Line on Complete"
   ]
  },
  {
   "cell_type": "markdown",
   "metadata": {},
   "source": [
    "## Training a basic driving model"
   ]
  },
  {
   "cell_type": "markdown",
   "metadata": {},
   "source": [
    "Create your driving model. This is specific to your learning framework. \n",
    "\n",
    "Below we give a very basic dummy model that uses the front facing camera and a resnet34 + LSTM architecture to predict canSteering and canSpeed. "
   ]
  },
  {
   "cell_type": "code",
   "execution_count": null,
   "metadata": {},
   "outputs": [],
   "source": [
    "from models import HereModel"
   ]
  },
  {
   "cell_type": "markdown",
   "metadata": {},
   "source": [
    "A basic training procedure that iterates over the train_loader and feeds each sample into our dummy model, subsequently calculates loss. We kill after 20 batches just"
   ]
  },
  {
   "cell_type": "code",
   "execution_count": null,
   "metadata": {},
   "outputs": [],
   "source": [
    "def save_model(model, optimizer, epoch, loss, path):\n",
    "    torch.save({\n",
    "                'epoch': epoch,\n",
    "                'model_state_dict': model.state_dict(),\n",
    "                'optimizer_state_dict': optimizer.state_dict(),\n",
    "                'loss': loss\n",
    "                }, path)\n",
    "    \n",
    "def resume_model(model, optimizer, path):\n",
    "    checkpoint = torch.load(path)\n",
    "    model.load_state_dict(checkpoint['model_state_dict'])\n",
    "    optimizer.load_state_dict(checkpoint['optimizer_state_dict'])\n",
    "    epoch = checkpoint['epoch']\n",
    "    loss = checkpoint['loss']\n",
    "    model.cuda()\n",
    "    #optimizer.cuda()\n",
    "    \n",
    "    return epoch, loss\n",
    "\n",
    "def load_model(model, path):\n",
    "    model.load_state_dict(torch.load(path))\n",
    "    model.eval()"
   ]
  },
  {
   "cell_type": "code",
   "execution_count": null,
   "metadata": {},
   "outputs": [],
   "source": [
    "def train_model(model, optimizer, criterion_speed, criterion_steering, epochs, scheduler, name, if_test, resume_path=None):\n",
    "    hist_train_loss_speed = []\n",
    "    hist_train_loss_steering = []\n",
    "    hist_valid_loss_speed = []\n",
    "    hist_valid_loss_steering = []\n",
    "    \n",
    "    model.cuda()\n",
    "    best_model = None\n",
    "    best_valid = math.inf\n",
    "    \n",
    "    if resume_path:\n",
    "        epoch, _ = resume_model(model, optimizer, resume_path)\n",
    "    else:\n",
    "        epoch = 0\n",
    "    \n",
    "    while epoch < epochs:\n",
    "        start = time.time()\n",
    "        printProgressBar(0, total_batch, prefix = 'Progress:', suffix = 'Complete', length = 50)\n",
    "        model.train()\n",
    "        progress_counter = 0\n",
    "        for batch_idx, (data, target) in enumerate(train_loader):\n",
    "            optimizer.zero_grad()\n",
    "            prediction = model(data)\n",
    "\n",
    "            steering_loss = criterion_steering(prediction['canSteering'].cuda(), target['canSteering'].cuda())\n",
    "            speed_loss = criterion_speed(prediction['canSpeed'].cuda(), target['canSpeed'].cuda())\n",
    "            loss = steering_loss + speed_loss\n",
    "            hist_train_loss_speed.append(speed_loss.cpu().detach().numpy())\n",
    "            hist_train_loss_steering.append(steering_loss.cpu().detach().numpy())\n",
    "            \n",
    "            loss.backward()\n",
    "            optimizer.step()\n",
    "            \n",
    "            if scheduler:\n",
    "                scheduler.step()\n",
    "                \n",
    "            progress_counter += 1\n",
    "            if progress_counter >= 10:\n",
    "                printProgressBar(batch_idx + 1, total_batch, prefix = 'Progress:', suffix = 'Complete', length = 50)\n",
    "                progress_counter = 0\n",
    "\n",
    "        printProgressBar(total_batch, total_batch, prefix = 'Progress:', suffix = 'Complete', length = 50)\n",
    "        print()\n",
    "        \n",
    "        end = time.time() \n",
    "        print(\"Training minutes elapsed epoch{}: {}, {} left\".format(epoch, round((end - start) / 60, 2), round((end - start) * (epochs - epoch - 1) / 60, 2)))\n",
    "\n",
    "        model.eval()\n",
    "\n",
    "        speed_sum = 0\n",
    "        steering_sum = 0\n",
    "        with torch.no_grad():\n",
    "            for batch_idx, (data, target) in enumerate(validation_loader):\n",
    "                optimizer.zero_grad()\n",
    "                prediction = model(data)\n",
    "                speed_dif = prediction['canSpeed'].cpu() - target['canSpeed']\n",
    "                steering_dif = prediction['canSteering'].cpu() - target['canSteering']\n",
    "                speed_sum += (np.square(speed_dif)).mean()\n",
    "                steering_sum += (np.square(steering_dif)).mean()\n",
    "        hist_valid_loss_speed.append(speed_sum)\n",
    "        hist_valid_loss_steering.append(steering_sum)\n",
    "        print(\"Steering Error: {}\\nSpeed Error: {}\".format(float(steering_sum), float(speed_sum)))\n",
    "        \n",
    "        # Early Stopping\n",
    "        if steering_sum < best_valid:\n",
    "            best_model = deepcopy(model)\n",
    "            best_valid = steering_sum\n",
    "            print(\"Find a new best model!\")\n",
    "        \n",
    "        epoch += 1\n",
    "        \n",
    "        \n",
    "    \n",
    "    plt.plot(hist_train_loss_speed)\n",
    "    plt.title(\"Speed Loss\")\n",
    "    now = datetime.now()\n",
    "    plt.plot(hist_train_loss_speed)\n",
    "    plt.title(\"Speed Loss\")\n",
    "    if not if_test:\n",
    "        plt.savefig(\"./saved_figures/{}-{}-{}-speed.png\".format(epochs, name, now.strftime(\"%m-%d-%Y-%H-%M-%S\")))\n",
    "    plt.show()\n",
    "    plt.plot(hist_train_loss_steering)\n",
    "    plt.title(\"Steering Loss\")\n",
    "    if not if_test:\n",
    "        plt.savefig(\"./saved_figures/{}-{}-{}-angle.png\".format(epochs, name, now.strftime(\"%m-%d-%Y-%H-%M-%S\")))\n",
    "    plt.show()\n",
    "    if not if_test:\n",
    "        save_model(model, optimizer, epoch, loss, \n",
    "                   \"./saved_models/{}-{}-{}.pt\".format(epochs, name, now.strftime(\"%m-%d-%Y-%H-%M-%S\")))\n",
    "        print(\"Saving current_model to \" + \"./saved_models/{}-{}-{}.pt\".format(epochs, name, now.strftime(\"%m-%d-%Y-%H-%M-%S\")))\n",
    "        save_model(model, optimizer, epoch, loss, \n",
    "                   \"./best_models/{}-{}-{}.pt\".format(epochs, name, now.strftime(\"%m-%d-%Y-%H-%M-%S\")))\n",
    "    plt.plot(hist_valid_loss_speed)\n",
    "    plt.title(\"Validating Speed Loss\")\n",
    "    plt.show()\n",
    "    plt.plot(hist_valid_loss_steering)\n",
    "    plt.title(\"Validating Steering Loss\")\n",
    "    plt.show()\n",
    "    \n",
    "    model = best_model"
   ]
  },
  {
   "cell_type": "markdown",
   "metadata": {},
   "source": [
    "We use pandas to create a submission file which is simply a 2-column csv with a canSteering and canSpeed prediction for each row in the **drive360_test.csv** a total of 305437 rows/predictions not including the header. See the **sample_submission.csv** file as an example.\n",
    "\n",
    "IMPORTANT: for the test phase indices will start 10s (100 samples) into each chapter this is to allow challenge participants to experiment with different temporal settings of data input. If challenge participants have a greater temporal length than 10s for each training sample, then they must write a custom function here. Please check out the **dataset.py** file for additional explanation."
   ]
  },
  {
   "cell_type": "code",
   "execution_count": null,
   "metadata": {},
   "outputs": [],
   "source": [
    "normalize_targets = config['target']['normalize']\n",
    "target_mean = config['target']['mean']\n",
    "target_std = config['target']['std']\n",
    "\n",
    "def add_results(results, output):\n",
    "    steering = np.squeeze(output['canSteering'].cpu().data.numpy())\n",
    "    speed = np.squeeze(output['canSpeed'].cpu().data.numpy())\n",
    "    if normalize_targets:\n",
    "        steering = (steering*target_std['canSteering'])+target_mean['canSteering']\n",
    "        speed = (speed*target_std['canSpeed'])+target_mean['canSpeed']\n",
    "    if np.isscalar(steering):\n",
    "        steering = [steering]\n",
    "    if np.isscalar(speed):\n",
    "        speed = [speed]\n",
    "    results['canSteering'].extend(steering)\n",
    "    results['canSpeed'].extend(speed)\n",
    "\n",
    "test_chapter_length = [2997 for i in range(98)]\n",
    "test_chapter_length[14] = 2996\n",
    "test_chapter_length[36] = 2996\n",
    "test_chapter_length[38] = 2996\n",
    "test_chapter_length[63] = 1277\n",
    "test_chapter_length[64] = 2861\n",
    "test_chapter_length[66] = 2014\n",
    "test_chapter_length[70] = 2996\n",
    "test_chapter_length[72] = 2690\n",
    "test_chapter_length[81] = 2106\n",
    "test_chapter_length[85] = 2996\n",
    "test_chapter_length[92] = 2996\n",
    "\n",
    "for i in range(len(test_chapter_length)):\n",
    "    test_chapter_length[i] -= 100\n",
    "    \n",
    "print(\"Number of test data: {}\".format(sum(test_chapter_length)))\n",
    "\n",
    "import pandas as pd\n",
    "\n",
    "def create_submission(model_index, initial_offset, interval):\n",
    "    now = datetime.now()\n",
    "    file_name = \"./submissions/{}-{}.csv\".format(names[model_index], now.strftime(\"%m-%d-%Y-%H-%M-%S\"))\n",
    "    results = {'canSteering': [],\n",
    "               'canSpeed': []}\n",
    "\n",
    "    final_result = {'canSteering': np.zeros(279863, dtype=\"float64\"),\n",
    "                    'canSpeed': np.zeros(279863, dtype=\"float64\")}\n",
    "    final_result['canSteering'][:] = np.nan\n",
    "    final_result['canSpeed'][:] = np.nan\n",
    "\n",
    "\n",
    "    start = time.time()\n",
    "    print(\"Start creating submission file {}, offset:{}, interval:{}\".format(file_name, initial_offset, interval))\n",
    "    with torch.no_grad():\n",
    "        for batch_idx, (data, target) in enumerate(test_loader):\n",
    "            prediction = user_models[model_index](data)\n",
    "            add_results(results, prediction)\n",
    "    \n",
    "    index = 0\n",
    "    chapter_cap = 0\n",
    "    r_index = 0\n",
    "    for chapter_num in test_chapter_length:\n",
    "        index = chapter_cap + initial_offset\n",
    "        \n",
    "        #Fill the leading indices\n",
    "        final_result['canSteering'][chapter_cap] = results['canSteering'][r_index]\n",
    "        final_result['canSpeed'][chapter_cap] = results['canSpeed'][r_index]\n",
    "        \n",
    "        chapter_cap += chapter_num\n",
    "        while index < chapter_cap:\n",
    "            final_result['canSteering'][index] = results['canSteering'][r_index]\n",
    "            final_result['canSpeed'][index] = results['canSpeed'][r_index]\n",
    "            \n",
    "            index += interval\n",
    "            r_index += 1\n",
    "            \n",
    "        #Fill the trailing indices\n",
    "        #print(index, chapter_cap, r_index)\n",
    "        final_result['canSteering'][chapter_cap - 1] = results['canSteering'][r_index - 1]\n",
    "        final_result['canSpeed'][chapter_cap - 1] = results['canSpeed'][r_index - 1]\n",
    "\n",
    "    df = pd.DataFrame.from_dict(final_result, dtype='float64')\n",
    "    df.interpolate(method='linear', limit_direction='forward', inplace=True)\n",
    "    df.to_csv(file_name, index=False)\n",
    "\n",
    "    end = time.time() \n",
    "    print(\"Minutes elapsed: {}\".format(round((end - start) / 60, 2)))"
   ]
  },
  {
   "cell_type": "markdown",
   "metadata": {},
   "source": [
    "## Local evaluation of the model."
   ]
  },
  {
   "cell_type": "code",
   "execution_count": null,
   "metadata": {},
   "outputs": [],
   "source": [
    "def cross_validation(user_models, optimizers, names, index, epochs=1, if_test=False, scheduler=None, resume_path=None):\n",
    "    print(names[index] + \": \")\n",
    "    train_model(user_models[index], optimizers[index], nn.SmoothL1Loss(), nn.SmoothL1Loss(), epochs, scheduler, names[index], if_test, resume_path)\n",
    "    print(\"--------------------------------------------------------------\")\n",
    "    if not if_test:\n",
    "        create_submission(index, config[\"initial_offset\"], config[\"interval\"])"
   ]
  },
  {
   "cell_type": "code",
   "execution_count": null,
   "metadata": {},
   "outputs": [],
   "source": [
    "user_models = [HereModel(), HereModel()]\n",
    "optimizers = [optim.AdamW(user_models[0].parameters(), lr=0.0001),\n",
    "              optim.AdamW(user_models[1].parameters(), lr=0.0001)]\n",
    "names = [\"FullResnet50GenDropout 0.001\", \n",
    "         \"Resnet50Dropout-lr-0.001\"]"
   ]
  },
  {
   "cell_type": "code",
   "execution_count": null,
   "metadata": {},
   "outputs": [],
   "source": [
    "cross_validation(user_models, optimizers, names, 0, 10)"
   ]
  },
  {
   "cell_type": "markdown",
   "metadata": {},
   "source": [
    "## Creating a submission file."
   ]
  },
  {
   "cell_type": "code",
   "execution_count": null,
   "metadata": {},
   "outputs": [],
   "source": [
    "def infer(user_models, index, path):\n",
    "    load_model(user_models[index], path)\n",
    "    create_submission(index, config[\"initial_offset\"], config[\"interval\"])\n",
    "    \n",
    "#infer(user_models, 0, \"\")"
   ]
  },
  {
   "cell_type": "code",
   "execution_count": null,
   "metadata": {},
   "outputs": [],
   "source": []
  }
 ],
 "metadata": {
  "kernelspec": {
   "display_name": "Python 3",
   "language": "python",
   "name": "python3"
  },
  "language_info": {
   "codemirror_mode": {
    "name": "ipython",
    "version": 3
   },
   "file_extension": ".py",
   "mimetype": "text/x-python",
   "name": "python",
   "nbconvert_exporter": "python",
   "pygments_lexer": "ipython3",
   "version": "3.7.3"
  }
 },
 "nbformat": 4,
 "nbformat_minor": 1
}
